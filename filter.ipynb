{
 "cells": [
  {
   "cell_type": "code",
   "execution_count": 1,
   "metadata": {},
   "outputs": [],
   "source": [
    "from typing import Optional, Tuple, Union, Literal\n",
    "\n",
    "import numpy as np\n",
    "import pandas as pd\n",
    "import plotly.graph_objects as go\n",
    "\n",
    "from filters.filter_algorithms import AlferesAlgorithm\n",
    "from filters.filters import AlferesFilter\n",
    "from filters.kernels import EwmaKernel1, EwmaKernel3\n",
    "from filters.models import EwmaUncertaintyModel, SignalModel\n",
    "from filters.plots import UnivariatePlotter\n",
    "from filters.config import Parameters\n",
    "from filters.smoothers import new_kernel_smoother\n",
    "from filters.utilities import combine_smooth_and_univariate, align_results_in_time, apply_observations_to_outliers"
   ]
  },
  {
   "cell_type": "code",
   "execution_count": 2,
   "metadata": {},
   "outputs": [],
   "source": [
    "def get_kernel(order: Literal[1, 3], forgetting_factor: float = 0.25):\n",
    "    if order == 1:\n",
    "        return EwmaKernel1(forgetting_factor=forgetting_factor)\n",
    "    elif order == 3:\n",
    "        return EwmaKernel3(forgetting_factor=forgetting_factor)\n",
    "\n",
    "\n",
    "def get_signal_model(order: Literal[1, 3], forgetting_factor: float = 0.25) -> SignalModel:\n",
    "    return SignalModel(kernel=get_kernel(order, forgetting_factor))\n",
    "\n",
    "\n",
    "def get_uncertainty_model(parameters: Parameters, order, forgetting_factor: float = 0.25) -> SignalModel:\n",
    "    return EwmaUncertaintyModel(\n",
    "        kernel=get_kernel(order, forgetting_factor),\n",
    "        **parameters\n",
    "    )\n",
    "\n",
    "\n",
    "\n",
    "def mirror(df: Union[pd.DataFrame, pd.Series], first_date: Optional[str] = None, last_date: Optional[str] = None) -> pd.DataFrame:\n",
    "    is_series = isinstance(df, pd.Series)\n",
    "    series_name = \"\"\n",
    "    if is_series:\n",
    "        series_name = df.name\n",
    "        df = pd.DataFrame(df)\n",
    "    df = df.copy()\n",
    "\n",
    "    if not isinstance(df.index, pd.DatetimeIndex):\n",
    "        raise TypeError(\"DataFrame should be index by time\")\n",
    "    if df.index.freqstr != \"D\":\n",
    "        raise ValueError(\"Index frequency should be 'D'\")\n",
    "\n",
    "    if first_date:\n",
    "        first_date = pd.to_datetime(first_date, format=\"%Y-%m-%d\")\n",
    "        df = df.loc[df.index > first_date]\n",
    "    if last_date:\n",
    "        last_date = pd.to_datetime(last_date, format=\"%Y-%m-%d\")\n",
    "        df = df.loc[df.index < last_date]\n",
    "\n",
    "    index_name = df.index.name\n",
    "    df = df.reset_index()\n",
    "    reversed_df = df[::-1].copy()\n",
    "    reversed_df[index_name] = reversed_df[index_name] - 2 * pd.to_timedelta(reversed_df.index, unit=\"D\")\n",
    "    reversed_df = reversed_df.iloc[:-1]\n",
    "    result = pd.concat([reversed_df, df], axis=0)\n",
    "    result.set_index(index_name, inplace=True)\n",
    "    result = result.asfreq(\"D\")\n",
    "    return result[series_name] if is_series else result\n",
    "\n",
    "\n",
    "def get_df_from_raw_data(df: pd.DataFrame, first_date=None, last_date=None) -> pd.DataFrame:\n",
    "    df[\"Calculated_timestamp\"] = pd.to_datetime(df[\"Calculated_timestamp\"])\n",
    "    data = df.set_index(\"Calculated_timestamp\")\n",
    "    if first_date:\n",
    "        first_date = pd.to_datetime(first_date, format=\"%Y-%m-%d\")\n",
    "        data = data.loc[data.index > first_date]\n",
    "    if last_date:\n",
    "        last_date = pd.to_datetime(last_date, format=\"%Y-%m-%d\")\n",
    "        data = data.loc[data.index < last_date]\n",
    "    value_columns = [col for col in data.columns if (\"value\" in col)]\n",
    "    quality_columns = [col for col in data.columns if (\"qualityFlag\" in col)]\n",
    "    data = data.dropna(subset=value_columns, how=\"all\", axis=0)\n",
    "    data[quality_columns] = data[quality_columns].astype(bool)\n",
    "    return data.loc[:, value_columns + quality_columns]\n",
    "\n",
    "\n",
    "def prepare_time_series(ts: pd.Series, data: pd.DataFrame, flow_name: str, use_log=False, use_flow=False, is_flag=False) -> pd.Series:\n",
    "    series_name = \"SRAS\"\n",
    "    if use_flow:\n",
    "        ts = ts * data[flow_name] / 1e3  # Tgc/d\n",
    "        series_name += \" x Débit\"\n",
    "    ts = ts.dropna()\n",
    "\n",
    "    if use_log:\n",
    "        ts = np.log(ts + 0.001)\n",
    "        series_name = f\"log({series_name})\"\n",
    "\n",
    "    series_name = \"Manually flagged\" if is_flag else series_name\n",
    "    ts.name = series_name\n",
    "    return ts.asfreq(\"D\")\n",
    "\n",
    "\n",
    "def retrieve_flagged_data(data: pd.DataFrame, series_name: str, quality_name: str) -> pd.Series:\n",
    "    ts = data[series_name]   # gc/ml\n",
    "    flags = data[quality_name].fillna(False)\n",
    "    flagged = ts.loc[flags]\n",
    "    flagged.name = \"Flagged\"\n",
    "    return flagged\n",
    "\n",
    "\n",
    "def remove_flagged(time_series: pd.Series, flags: pd.Series) -> pd.Series:\n",
    "    df = pd.concat([time_series, flags], axis=1)\n",
    "    flag_name = flags.name\n",
    "    df['keep'] = df.apply(lambda x: np.isnan(x[flag_name]), axis=1)\n",
    "    return time_series.loc[df['keep']]\n",
    "\n",
    "\n",
    "def write_units(use_log: bool, use_flow: bool) -> str:\n",
    "    units = \"1e9 cg/j\" if use_flow else \"cg/j\"\n",
    "    if use_log:\n",
    "        units = f\"log ({units})\"\n",
    "    return units\n"
   ]
  },
  {
   "cell_type": "code",
   "execution_count": 3,
   "metadata": {},
   "outputs": [
    {
     "ename": "KeyError",
     "evalue": "'input_values'",
     "output_type": "error",
     "traceback": [
      "\u001b[0;31m---------------------------------------------------------------------------\u001b[0m",
      "\u001b[0;31mKeyError\u001b[0m                                  Traceback (most recent call last)",
      "File \u001b[0;32m~/dev/jeandavidt/online_ewma/env/lib/python3.9/site-packages/pandas/core/indexes/base.py:3621\u001b[0m, in \u001b[0;36mIndex.get_loc\u001b[0;34m(self, key, method, tolerance)\u001b[0m\n\u001b[1;32m   <a href='file:///Users/jeandavidt/dev/jeandavidt/online_ewma/env/lib/python3.9/site-packages/pandas/core/indexes/base.py?line=3619'>3620</a>\u001b[0m \u001b[39mtry\u001b[39;00m:\n\u001b[0;32m-> <a href='file:///Users/jeandavidt/dev/jeandavidt/online_ewma/env/lib/python3.9/site-packages/pandas/core/indexes/base.py?line=3620'>3621</a>\u001b[0m     \u001b[39mreturn\u001b[39;00m \u001b[39mself\u001b[39;49m\u001b[39m.\u001b[39;49m_engine\u001b[39m.\u001b[39;49mget_loc(casted_key)\n\u001b[1;32m   <a href='file:///Users/jeandavidt/dev/jeandavidt/online_ewma/env/lib/python3.9/site-packages/pandas/core/indexes/base.py?line=3621'>3622</a>\u001b[0m \u001b[39mexcept\u001b[39;00m \u001b[39mKeyError\u001b[39;00m \u001b[39mas\u001b[39;00m err:\n",
      "File \u001b[0;32mpandas/_libs/index.pyx:136\u001b[0m, in \u001b[0;36mpandas._libs.index.IndexEngine.get_loc\u001b[0;34m()\u001b[0m\n",
      "File \u001b[0;32mpandas/_libs/index.pyx:163\u001b[0m, in \u001b[0;36mpandas._libs.index.IndexEngine.get_loc\u001b[0;34m()\u001b[0m\n",
      "File \u001b[0;32mpandas/_libs/hashtable_class_helper.pxi:5198\u001b[0m, in \u001b[0;36mpandas._libs.hashtable.PyObjectHashTable.get_item\u001b[0;34m()\u001b[0m\n",
      "File \u001b[0;32mpandas/_libs/hashtable_class_helper.pxi:5206\u001b[0m, in \u001b[0;36mpandas._libs.hashtable.PyObjectHashTable.get_item\u001b[0;34m()\u001b[0m\n",
      "\u001b[0;31mKeyError\u001b[0m: 'input_values'",
      "\nThe above exception was the direct cause of the following exception:\n",
      "\u001b[0;31mKeyError\u001b[0m                                  Traceback (most recent call last)",
      "\u001b[1;32m/Users/jeandavidt/dev/jeandavidt/online_ewma/filter.ipynb Cell 3'\u001b[0m in \u001b[0;36m<cell line: 116>\u001b[0;34m()\u001b[0m\n\u001b[1;32m    <a href='vscode-notebook-cell:/Users/jeandavidt/dev/jeandavidt/online_ewma/filter.ipynb#ch0000003?line=113'>114</a>\u001b[0m use_flow \u001b[39m=\u001b[39m \u001b[39mTrue\u001b[39;00m\n\u001b[1;32m    <a href='vscode-notebook-cell:/Users/jeandavidt/dev/jeandavidt/online_ewma/filter.ipynb#ch0000003?line=114'>115</a>\u001b[0m remove_flags \u001b[39m=\u001b[39m \u001b[39mFalse\u001b[39;00m\n\u001b[0;32m--> <a href='vscode-notebook-cell:/Users/jeandavidt/dev/jeandavidt/online_ewma/filter.ipynb#ch0000003?line=115'>116</a>\u001b[0m fig \u001b[39m=\u001b[39m main(data_path, year, calib_start, calib_end, parameters, start\u001b[39m=\u001b[39;49mstart, end\u001b[39m=\u001b[39;49mend, use_mirror\u001b[39m=\u001b[39;49muse_mirror, use_log\u001b[39m=\u001b[39;49muse_log, use_flow\u001b[39m=\u001b[39;49muse_flow, remove_flags\u001b[39m=\u001b[39;49mremove_flags)\n",
      "\u001b[1;32m/Users/jeandavidt/dev/jeandavidt/online_ewma/filter.ipynb Cell 3'\u001b[0m in \u001b[0;36mmain\u001b[0;34m(data_path, year, calib_start, calib_end, params, start, end, use_mirror, use_log, use_flow, remove_flags)\u001b[0m\n\u001b[1;32m     <a href='vscode-notebook-cell:/Users/jeandavidt/dev/jeandavidt/online_ewma/filter.ipynb#ch0000003?line=58'>59</a>\u001b[0m results \u001b[39m=\u001b[39m combine_smooth_and_univariate(smoother_results, filter_results)\n\u001b[1;32m     <a href='vscode-notebook-cell:/Users/jeandavidt/dev/jeandavidt/online_ewma/filter.ipynb#ch0000003?line=61'>62</a>\u001b[0m \u001b[39m# plotter\u001b[39;00m\n\u001b[0;32m---> <a href='vscode-notebook-cell:/Users/jeandavidt/dev/jeandavidt/online_ewma/filter.ipynb#ch0000003?line=62'>63</a>\u001b[0m plotter \u001b[39m=\u001b[39m UnivariatePlotter(\n\u001b[1;32m     <a href='vscode-notebook-cell:/Users/jeandavidt/dev/jeandavidt/online_ewma/filter.ipynb#ch0000003?line=63'>64</a>\u001b[0m     signal_name\u001b[39m=\u001b[39;49m\u001b[39m\"\u001b[39;49m\u001b[39mSARS\u001b[39;49m\u001b[39m\"\u001b[39;49m,\n\u001b[1;32m     <a href='vscode-notebook-cell:/Users/jeandavidt/dev/jeandavidt/online_ewma/filter.ipynb#ch0000003?line=64'>65</a>\u001b[0m     df\u001b[39m=\u001b[39;49mresults,\n\u001b[1;32m     <a href='vscode-notebook-cell:/Users/jeandavidt/dev/jeandavidt/online_ewma/filter.ipynb#ch0000003?line=65'>66</a>\u001b[0m     template\u001b[39m=\u001b[39;49m\u001b[39m\"\u001b[39;49m\u001b[39mplotly_white\u001b[39;49m\u001b[39m\"\u001b[39;49m,\n\u001b[1;32m     <a href='vscode-notebook-cell:/Users/jeandavidt/dev/jeandavidt/online_ewma/filter.ipynb#ch0000003?line=66'>67</a>\u001b[0m     language\u001b[39m=\u001b[39;49m\u001b[39m\"\u001b[39;49m\u001b[39menglish\u001b[39;49m\u001b[39m\"\u001b[39;49m\n\u001b[1;32m     <a href='vscode-notebook-cell:/Users/jeandavidt/dev/jeandavidt/online_ewma/filter.ipynb#ch0000003?line=67'>68</a>\u001b[0m )\n\u001b[1;32m     <a href='vscode-notebook-cell:/Users/jeandavidt/dev/jeandavidt/online_ewma/filter.ipynb#ch0000003?line=68'>69</a>\u001b[0m fig \u001b[39m=\u001b[39m plotter\u001b[39m.\u001b[39mplot()\n\u001b[1;32m     <a href='vscode-notebook-cell:/Users/jeandavidt/dev/jeandavidt/online_ewma/filter.ipynb#ch0000003?line=72'>73</a>\u001b[0m raw_trace \u001b[39m=\u001b[39m go\u001b[39m.\u001b[39mScatter(x\u001b[39m=\u001b[39moriginal_time_series\u001b[39m.\u001b[39mindex, y\u001b[39m=\u001b[39moriginal_time_series, name\u001b[39m=\u001b[39m\u001b[39m\"\u001b[39m\u001b[39mSignal brut\u001b[39m\u001b[39m\"\u001b[39m, marker\u001b[39m=\u001b[39m\u001b[39mdict\u001b[39m(color\u001b[39m=\u001b[39m\u001b[39m\"\u001b[39m\u001b[39m#bbbbbb\u001b[39m\u001b[39m\"\u001b[39m))\n",
      "File \u001b[0;32m<string>:7\u001b[0m, in \u001b[0;36m__init__\u001b[0;34m(self, signal_name, df, template, language)\u001b[0m\n",
      "File \u001b[0;32m~/dev/jeandavidt/online_ewma/src/filters/plots.py:112\u001b[0m, in \u001b[0;36mUnivariatePlotter.__post_init__\u001b[0;34m(self)\u001b[0m\n\u001b[1;32m    <a href='file:///Users/jeandavidt/dev/jeandavidt/online_ewma/src/filters/plots.py?line=109'>110</a>\u001b[0m \u001b[39mif\u001b[39;00m \u001b[39mnot\u001b[39;00m df\u001b[39m.\u001b[39mempty:\n\u001b[1;32m    <a href='file:///Users/jeandavidt/dev/jeandavidt/online_ewma/src/filters/plots.py?line=110'>111</a>\u001b[0m     df \u001b[39m=\u001b[39m align_results_in_time(\u001b[39mself\u001b[39m\u001b[39m.\u001b[39mdf)\n\u001b[0;32m--> <a href='file:///Users/jeandavidt/dev/jeandavidt/online_ewma/src/filters/plots.py?line=111'>112</a>\u001b[0m     df \u001b[39m=\u001b[39m apply_observations_to_outliers(df)\n\u001b[1;32m    <a href='file:///Users/jeandavidt/dev/jeandavidt/online_ewma/src/filters/plots.py?line=112'>113</a>\u001b[0m \u001b[39mself\u001b[39m\u001b[39m.\u001b[39mplot_data \u001b[39m=\u001b[39m df\n\u001b[1;32m    <a href='file:///Users/jeandavidt/dev/jeandavidt/online_ewma/src/filters/plots.py?line=113'>114</a>\u001b[0m \u001b[39mself\u001b[39m\u001b[39m.\u001b[39mx \u001b[39m=\u001b[39m \u001b[39mself\u001b[39m\u001b[39m.\u001b[39mplot_data[\u001b[39m\"\u001b[39m\u001b[39mdate\u001b[39m\u001b[39m\"\u001b[39m]\n",
      "File \u001b[0;32m~/dev/jeandavidt/online_ewma/src/filters/utilities.py:39\u001b[0m, in \u001b[0;36mapply_observations_to_outliers\u001b[0;34m(df)\u001b[0m\n\u001b[1;32m     <a href='file:///Users/jeandavidt/dev/jeandavidt/online_ewma/src/filters/utilities.py?line=36'>37</a>\u001b[0m df[\u001b[39m\"\u001b[39m\u001b[39moutlier_values\u001b[39m\u001b[39m\"\u001b[39m] \u001b[39m=\u001b[39m df[\u001b[39m\"\u001b[39m\u001b[39minputs_are_outliers\u001b[39m\u001b[39m\"\u001b[39m]\u001b[39m.\u001b[39mastype(\u001b[39mint\u001b[39m)\n\u001b[1;32m     <a href='file:///Users/jeandavidt/dev/jeandavidt/online_ewma/src/filters/utilities.py?line=37'>38</a>\u001b[0m df\u001b[39m.\u001b[39mloc[\u001b[39m~\u001b[39mdf[\u001b[39m\"\u001b[39m\u001b[39minputs_are_outliers\u001b[39m\u001b[39m\"\u001b[39m], \u001b[39m\"\u001b[39m\u001b[39moutlier_values\u001b[39m\u001b[39m\"\u001b[39m] \u001b[39m=\u001b[39m np\u001b[39m.\u001b[39mnan\n\u001b[0;32m---> <a href='file:///Users/jeandavidt/dev/jeandavidt/online_ewma/src/filters/utilities.py?line=38'>39</a>\u001b[0m df\u001b[39m.\u001b[39mloc[df[\u001b[39m\"\u001b[39m\u001b[39minputs_are_outliers\u001b[39m\u001b[39m\"\u001b[39m], \u001b[39m\"\u001b[39m\u001b[39moutlier_values\u001b[39m\u001b[39m\"\u001b[39m] \u001b[39m=\u001b[39m df[\u001b[39m\"\u001b[39;49m\u001b[39minput_values\u001b[39;49m\u001b[39m\"\u001b[39;49m]\n\u001b[1;32m     <a href='file:///Users/jeandavidt/dev/jeandavidt/online_ewma/src/filters/utilities.py?line=39'>40</a>\u001b[0m df[\u001b[39m\"\u001b[39m\u001b[39moutlier_values\u001b[39m\u001b[39m\"\u001b[39m] \u001b[39m=\u001b[39m df[\u001b[39m\"\u001b[39m\u001b[39moutlier_values\u001b[39m\u001b[39m\"\u001b[39m]\u001b[39m.\u001b[39mastype(\u001b[39mfloat\u001b[39m)\n\u001b[1;32m     <a href='file:///Users/jeandavidt/dev/jeandavidt/online_ewma/src/filters/utilities.py?line=40'>41</a>\u001b[0m \u001b[39mreturn\u001b[39;00m df\n",
      "File \u001b[0;32m~/dev/jeandavidt/online_ewma/env/lib/python3.9/site-packages/pandas/core/frame.py:3505\u001b[0m, in \u001b[0;36mDataFrame.__getitem__\u001b[0;34m(self, key)\u001b[0m\n\u001b[1;32m   <a href='file:///Users/jeandavidt/dev/jeandavidt/online_ewma/env/lib/python3.9/site-packages/pandas/core/frame.py?line=3502'>3503</a>\u001b[0m \u001b[39mif\u001b[39;00m \u001b[39mself\u001b[39m\u001b[39m.\u001b[39mcolumns\u001b[39m.\u001b[39mnlevels \u001b[39m>\u001b[39m \u001b[39m1\u001b[39m:\n\u001b[1;32m   <a href='file:///Users/jeandavidt/dev/jeandavidt/online_ewma/env/lib/python3.9/site-packages/pandas/core/frame.py?line=3503'>3504</a>\u001b[0m     \u001b[39mreturn\u001b[39;00m \u001b[39mself\u001b[39m\u001b[39m.\u001b[39m_getitem_multilevel(key)\n\u001b[0;32m-> <a href='file:///Users/jeandavidt/dev/jeandavidt/online_ewma/env/lib/python3.9/site-packages/pandas/core/frame.py?line=3504'>3505</a>\u001b[0m indexer \u001b[39m=\u001b[39m \u001b[39mself\u001b[39;49m\u001b[39m.\u001b[39;49mcolumns\u001b[39m.\u001b[39;49mget_loc(key)\n\u001b[1;32m   <a href='file:///Users/jeandavidt/dev/jeandavidt/online_ewma/env/lib/python3.9/site-packages/pandas/core/frame.py?line=3505'>3506</a>\u001b[0m \u001b[39mif\u001b[39;00m is_integer(indexer):\n\u001b[1;32m   <a href='file:///Users/jeandavidt/dev/jeandavidt/online_ewma/env/lib/python3.9/site-packages/pandas/core/frame.py?line=3506'>3507</a>\u001b[0m     indexer \u001b[39m=\u001b[39m [indexer]\n",
      "File \u001b[0;32m~/dev/jeandavidt/online_ewma/env/lib/python3.9/site-packages/pandas/core/indexes/base.py:3623\u001b[0m, in \u001b[0;36mIndex.get_loc\u001b[0;34m(self, key, method, tolerance)\u001b[0m\n\u001b[1;32m   <a href='file:///Users/jeandavidt/dev/jeandavidt/online_ewma/env/lib/python3.9/site-packages/pandas/core/indexes/base.py?line=3620'>3621</a>\u001b[0m     \u001b[39mreturn\u001b[39;00m \u001b[39mself\u001b[39m\u001b[39m.\u001b[39m_engine\u001b[39m.\u001b[39mget_loc(casted_key)\n\u001b[1;32m   <a href='file:///Users/jeandavidt/dev/jeandavidt/online_ewma/env/lib/python3.9/site-packages/pandas/core/indexes/base.py?line=3621'>3622</a>\u001b[0m \u001b[39mexcept\u001b[39;00m \u001b[39mKeyError\u001b[39;00m \u001b[39mas\u001b[39;00m err:\n\u001b[0;32m-> <a href='file:///Users/jeandavidt/dev/jeandavidt/online_ewma/env/lib/python3.9/site-packages/pandas/core/indexes/base.py?line=3622'>3623</a>\u001b[0m     \u001b[39mraise\u001b[39;00m \u001b[39mKeyError\u001b[39;00m(key) \u001b[39mfrom\u001b[39;00m \u001b[39merr\u001b[39;00m\n\u001b[1;32m   <a href='file:///Users/jeandavidt/dev/jeandavidt/online_ewma/env/lib/python3.9/site-packages/pandas/core/indexes/base.py?line=3623'>3624</a>\u001b[0m \u001b[39mexcept\u001b[39;00m \u001b[39mTypeError\u001b[39;00m:\n\u001b[1;32m   <a href='file:///Users/jeandavidt/dev/jeandavidt/online_ewma/env/lib/python3.9/site-packages/pandas/core/indexes/base.py?line=3624'>3625</a>\u001b[0m     \u001b[39m# If we have a listlike key, _check_indexing_error will raise\u001b[39;00m\n\u001b[1;32m   <a href='file:///Users/jeandavidt/dev/jeandavidt/online_ewma/env/lib/python3.9/site-packages/pandas/core/indexes/base.py?line=3625'>3626</a>\u001b[0m     \u001b[39m#  InvalidIndexError. Otherwise we fall through and re-raise\u001b[39;00m\n\u001b[1;32m   <a href='file:///Users/jeandavidt/dev/jeandavidt/online_ewma/env/lib/python3.9/site-packages/pandas/core/indexes/base.py?line=3626'>3627</a>\u001b[0m     \u001b[39m#  the TypeError.\u001b[39;00m\n\u001b[1;32m   <a href='file:///Users/jeandavidt/dev/jeandavidt/online_ewma/env/lib/python3.9/site-packages/pandas/core/indexes/base.py?line=3627'>3628</a>\u001b[0m     \u001b[39mself\u001b[39m\u001b[39m.\u001b[39m_check_indexing_error(key)\n",
      "\u001b[0;31mKeyError\u001b[0m: 'input_values'"
     ]
    }
   ],
   "source": [
    "def main(data_path, year, calib_start, calib_end, params, start=None, end=None, use_mirror=False, use_log=False, use_flow=False, remove_flags=False):\n",
    "    sars_name = 'WWMeasure_covn1_gcml_single-to-mean_value'\n",
    "    sars_quality_name = \"WWMeasure_covn1_gcml_single-to-mean_qualityFlag\"\n",
    "    flow_name = \"SiteMeasure_wwflow_m3d_single-to-mean_value\"\n",
    "\n",
    "    if year == 2021:\n",
    "        sars_name = sars_name.replace('n1', 'n2')\n",
    "        sars_quality_name = sars_quality_name.replace('n1', 'n2')\n",
    "\n",
    "    raw_data = pd.read_csv(data_path)\n",
    "\n",
    "    data = get_df_from_raw_data(raw_data, start, end)\n",
    "\n",
    "    flagged = retrieve_flagged_data(data, sars_name, sars_quality_name)\n",
    "    original_time_series = data[sars_name]\n",
    "    flagged = prepare_time_series(flagged, data, flow_name, use_log, use_flow, is_flag=True)\n",
    "    original_time_series = prepare_time_series(original_time_series, data, flow_name, use_log, use_flow, is_flag=False)\n",
    "    if remove_flags:\n",
    "        time_series = remove_flagged(original_time_series, flagged)\n",
    "    else:\n",
    "        time_series = original_time_series.copy()\n",
    "    time_series = time_series.asfreq(\"D\").interpolate()\n",
    "    units = write_units(use_log, use_flow)\n",
    "\n",
    "    if use_mirror:\n",
    "        # lengthen the series by mirroring\n",
    "        mirrored_df = mirror(time_series, first_date=start, last_date=end)\n",
    "        mirrored_df = mirror(mirrored_df)\n",
    "\n",
    "        # fill gaps\n",
    "        time_series = mirrored_df.interpolate()\n",
    "\n",
    "    # seven-day rolling average\n",
    "    seven_days = time_series.rolling(window=7, center=True).mean()\n",
    "\n",
    "    # filter\n",
    "    filter_obj = AlferesFilter(\n",
    "        algorithm=AlferesAlgorithm(),\n",
    "        signal_model=get_signal_model(order=3),\n",
    "        uncertainty_model=get_uncertainty_model(\n",
    "            params[\"uncertainty\"],\n",
    "            order=1\n",
    "        ),\n",
    "        control_parameters=params[\"control\"],\n",
    "    )\n",
    "\n",
    "    calibration_data = time_series.loc[calib_start:calib_end]\n",
    "    filter_obj.calibrate_models(calibration_data)\n",
    "    filter_obj.add_dataframe(time_series)\n",
    "    filter_obj.update_filter()\n",
    "    filter_results = align_results_in_time(filter_obj.to_dataframe())\n",
    "    filter_results = apply_observations_to_outliers(filter_results)\n",
    "    # smoother\n",
    "    smoother = new_kernel_smoother(**params[\"smoother\"])\n",
    "    to_smooth = filter_results[[\"date\", \"accepted_values\"]].set_index(\"date\")\n",
    "    smoother.add_dataframe(to_smooth)\n",
    "    smoother.update_filter()\n",
    "    smoother_results = smoother.to_dataframe()\n",
    "    results = combine_smooth_and_univariate(smoother_results, filter_results)\n",
    "    \n",
    "    \n",
    "    # plotter\n",
    "    plotter = UnivariatePlotter(\n",
    "        signal_name=\"SARS\",\n",
    "        df=results,\n",
    "        template=\"plotly_white\",\n",
    "        language=\"english\"\n",
    "    )\n",
    "    fig = plotter.plot()\n",
    "\n",
    "\n",
    "\n",
    "    raw_trace = go.Scatter(x=original_time_series.index, y=original_time_series, name=\"Signal brut\", marker=dict(color=\"#bbbbbb\"))\n",
    "    fig.add_trace(raw_trace)\n",
    "\n",
    "    flagged_trace = go.Scatter(x=flagged.index, y=flagged, name=\"Annoté manuellement\", line=dict(color=\"#D62728\"), mode='markers', marker=dict(symbol=\"star\", size=15), showlegend=True)\n",
    "    fig.add_trace(flagged_trace)\n",
    "    \n",
    "    seven_day_trace = go.Scatter(x=seven_days.index, y=seven_days, name=\"Liss. moy. 7j\", marker=dict(color=\"#FF6F00\"))\n",
    "    fig.add_trace(seven_day_trace)\n",
    "\n",
    "    fig.update_layout(dict(\n",
    "        # template=\"presentation\",\n",
    "        title=f\"Surveillance des eaux usées - Ville de Québec, Station Est - {time_series.name}\"),\n",
    "        yaxis=dict(title=f\"Valeur ({units})\"),\n",
    "        xaxis=dict(title=\"Jour d'échantillonnage\")),\n",
    "    fig.update_layout(dict(hovermode='x unified', width=1000, height=800))\n",
    "    fig.update_traces(hovertemplate='%{y:.2f}')\n",
    "    return fig\n",
    "\n",
    "parameters = {\n",
    "    \"control\": {\n",
    "        \"n_outlier_threshold\": 1,\n",
    "        \"n_steps_back\": 2,\n",
    "        \"n_warmup_steps\": 2,\n",
    "    },\n",
    "    \"uncertainty\": {\n",
    "        \"initial_uncertainty\": 500,\n",
    "        \"minimum_uncertainty\": 500,\n",
    "        \"uncertainty_gain\": 0.75\n",
    "    },\n",
    "    \"smoother\": {\n",
    "        \"size\": 2\n",
    "    }\n",
    "}\n",
    "data_path = \"/Users/jeandavidt/Library/CloudStorage/OneDrive-UniversitéLaval/Université/Doctorat/COVID/Latest Data/wide tables 2022/qc_01.csv\"\n",
    "year = 2022\n",
    "calib_start, calib_end = (\"22 March 2022\", \"27 March 2022\")\n",
    "params = parameters\n",
    "start = None \n",
    "end = None\n",
    "use_mirror = False\n",
    "use_log = False\n",
    "use_flow = True\n",
    "remove_flags = False\n",
    "fig = main(data_path, year, calib_start, calib_end, parameters, start=start, end=end, use_mirror=use_mirror, use_log=use_log, use_flow=use_flow, remove_flags=remove_flags)"
   ]
  },
  {
   "cell_type": "code",
   "execution_count": null,
   "metadata": {},
   "outputs": [],
   "source": [
    "parameters = {\n",
    "    \"control\": {\n",
    "        \"n_outlier_threshold\": 1,\n",
    "        \"n_steps_back\": 2,\n",
    "        \"n_warmup_steps\": 2,\n",
    "    },\n",
    "    \"uncertainty\": {\n",
    "        \"initial_uncertainty\": 500,\n",
    "        \"minimum_uncertainty\": 500,\n",
    "        \"uncertainty_gain\": 0.75\n",
    "    },\n",
    "    \"smoother\": {\n",
    "        \"size\": 2\n",
    "    }\n",
    "}\n",
    "data_path = \"/Users/jeandavidt/Library/CloudStorage/OneDrive-UniversitéLaval/Université/Doctorat/COVID/Latest Data/wide tables 2022/qc_01.csv\"\n",
    "year = 2022\n",
    "calib_start, calib_end = (\"22 March 2022\", \"27 March 2022\")\n",
    "params = parameters\n",
    "start = None \n",
    "end = None\n",
    "use_mirror = False\n",
    "use_log = False\n",
    "use_flow = True\n",
    "remove_flags = False\n",
    "fig = main(data_path, year, calib_start, calib_end, parameters, start=start, end=end, use_mirror=use_mirror, use_log=use_log, use_flow=use_flow, remove_flags=remove_flags)"
   ]
  },
  {
   "cell_type": "code",
   "execution_count": null,
   "metadata": {},
   "outputs": [
    {
     "data": {
      "application/vnd.plotly.v1+json": {
       "config": {
        "plotlyServerURL": "https://plot.ly"
       },
       "data": [
        {
         "hovertemplate": "%{y:.2f}",
         "line": {
          "width": 0
         },
         "mode": "lines",
         "name": "Lower Bound",
         "showlegend": false,
         "type": "scatter",
         "x": [
          "2022-03-22T00:00:00",
          "2022-03-23T00:00:00",
          "2022-03-24T00:00:00",
          "2022-03-25T00:00:00",
          "2022-03-26T00:00:00",
          "2022-03-27T00:00:00",
          "2022-03-28T00:00:00",
          "2022-03-29T00:00:00",
          "2022-03-30T00:00:00",
          "2022-03-31T00:00:00",
          "2022-04-01T00:00:00",
          "2022-04-02T00:00:00",
          "2022-04-03T00:00:00",
          "2022-04-04T00:00:00",
          "2022-04-05T00:00:00",
          "2022-04-06T00:00:00",
          "2022-04-07T00:00:00",
          "2022-04-08T00:00:00",
          "2022-04-09T00:00:00",
          "2022-04-10T00:00:00",
          "2022-04-11T00:00:00",
          "2022-04-12T00:00:00",
          "2022-04-13T00:00:00",
          "2022-04-14T00:00:00",
          "2022-04-15T00:00:00"
         ],
         "y": [
          null,
          2193.156306092099,
          2119.167500882538,
          1777.0336889403466,
          3083.3011367300614,
          3396.053334555888,
          1213.368548796841,
          1233.9081203400622,
          -2414.490290155484,
          3756.449531720881,
          2090.0867664198786,
          3908.685809196897,
          2175.3552476695404,
          -2259.587172436347,
          -1666.4992387292414,
          -718.7057368746127,
          -828.833367236236,
          -1765.3489601458914,
          -868.9515909165696,
          -2804.9377383918118,
          699.7054448439903,
          -249.33215455988966,
          -2271.2013990978735,
          -2201.911617688019
         ]
        },
        {
         "fill": "tonexty",
         "fillcolor": "rgba(205, 229, 203, 0.5)",
         "hovertemplate": "%{y:.2f}",
         "line": {
          "width": 0
         },
         "mode": "lines",
         "name": "Upper Bound",
         "showlegend": true,
         "type": "scatter",
         "x": [
          "2022-03-22T00:00:00",
          "2022-03-23T00:00:00",
          "2022-03-24T00:00:00",
          "2022-03-25T00:00:00",
          "2022-03-26T00:00:00",
          "2022-03-27T00:00:00",
          "2022-03-28T00:00:00",
          "2022-03-29T00:00:00",
          "2022-03-30T00:00:00",
          "2022-03-31T00:00:00",
          "2022-04-01T00:00:00",
          "2022-04-02T00:00:00",
          "2022-04-03T00:00:00",
          "2022-04-04T00:00:00",
          "2022-04-05T00:00:00",
          "2022-04-06T00:00:00",
          "2022-04-07T00:00:00",
          "2022-04-08T00:00:00",
          "2022-04-09T00:00:00",
          "2022-04-10T00:00:00",
          "2022-04-11T00:00:00",
          "2022-04-12T00:00:00",
          "2022-04-13T00:00:00",
          "2022-04-14T00:00:00",
          "2022-04-15T00:00:00"
         ],
         "y": [
          null,
          5155.366483692194,
          4150.147229581269,
          4492.28104152346,
          5495.946421498757,
          5395.241372848211,
          5979.037750233527,
          4323.536764744406,
          6382.440383873257,
          10777.368296991499,
          10879.439888743029,
          14731.10829402371,
          11661.42812148639,
          7832.7250562415675,
          7251.217964384238,
          6315.005304379387,
          5563.496787073325,
          4527.132991947564,
          4080.4719780686737,
          5561.471199646082,
          8569.503487965374,
          5605.428178729184,
          3238.300860024711,
          2556.4846860351827
         ]
        },
        {
         "hovertemplate": "%{y:.2f}",
         "line": {
          "color": "green",
          "dash": "dot"
         },
         "mode": "lines+markers",
         "name": "Predicted",
         "showlegend": true,
         "type": "scatter",
         "x": [
          "2022-03-22T00:00:00",
          "2022-03-23T00:00:00",
          "2022-03-24T00:00:00",
          "2022-03-25T00:00:00",
          "2022-03-26T00:00:00",
          "2022-03-27T00:00:00",
          "2022-03-28T00:00:00",
          "2022-03-29T00:00:00",
          "2022-03-30T00:00:00",
          "2022-03-31T00:00:00",
          "2022-04-01T00:00:00",
          "2022-04-02T00:00:00",
          "2022-04-03T00:00:00",
          "2022-04-04T00:00:00",
          "2022-04-05T00:00:00",
          "2022-04-06T00:00:00",
          "2022-04-07T00:00:00",
          "2022-04-08T00:00:00",
          "2022-04-09T00:00:00",
          "2022-04-10T00:00:00",
          "2022-04-11T00:00:00",
          "2022-04-12T00:00:00",
          "2022-04-13T00:00:00",
          "2022-04-14T00:00:00",
          "2022-04-15T00:00:00"
         ],
         "y": [
          null,
          3724.439800071441,
          3134.6573652319034,
          3433.7229138771445,
          3918.0920600448912,
          4276.357476011558,
          3087.055537433474,
          2977.470941078954,
          1800.6769048067113,
          7979.449398920752,
          9319.897051610304,
          10074.942764422136,
          9032.295977025831,
          5876.092775182205,
          3867.023938428343,
          2649.047890033516,
          3699.3639160879457,
          2231.5427000652485,
          1378.2667306271348,
          1144.4509123191403,
          2931.586403610822,
          2930.3742435796244,
          1645.6770532153434,
          671.2982709674094
         ]
        },
        {
         "hovertemplate": "%{y:.2f}",
         "line": {
          "color": "#388E3C",
          "dash": "dash"
         },
         "mode": "lines",
         "name": "Accepted",
         "showlegend": true,
         "type": "scatter",
         "x": [
          "2022-03-22T00:00:00",
          "2022-03-23T00:00:00",
          "2022-03-24T00:00:00",
          "2022-03-25T00:00:00",
          "2022-03-26T00:00:00",
          "2022-03-27T00:00:00",
          "2022-03-28T00:00:00",
          "2022-03-29T00:00:00",
          "2022-03-30T00:00:00",
          "2022-03-31T00:00:00",
          "2022-04-01T00:00:00",
          "2022-04-02T00:00:00",
          "2022-04-03T00:00:00",
          "2022-04-04T00:00:00",
          "2022-04-05T00:00:00",
          "2022-04-06T00:00:00",
          "2022-04-07T00:00:00",
          "2022-04-08T00:00:00",
          "2022-04-09T00:00:00",
          "2022-04-10T00:00:00",
          "2022-04-11T00:00:00",
          "2022-04-12T00:00:00",
          "2022-04-13T00:00:00",
          "2022-04-14T00:00:00",
          "2022-04-15T00:00:00"
         ],
         "y": [
          3674.2613948921467,
          3134.6573652319034,
          3134.6573652319034,
          4289.623779114409,
          4395.647353702049,
          3596.2031495151837,
          2778.722442542234,
          1983.9750468588866,
          7266.9089143561905,
          6484.763327581454,
          9319.897051610304,
          6918.391684577965,
          2786.5689419026103,
          2792.3593628274984,
          2798.149783752387,
          2367.3317099185447,
          1380.8920159008362,
          1605.760193576052,
          1378.2667306271348,
          4634.604466404682,
          2678.048012084647,
          483.5497304634185,
          177.2865341735821,
          null
         ]
        },
        {
         "hovertemplate": "%{y:.2f}",
         "line": {
          "color": "#60FF8F"
         },
         "mode": "lines",
         "name": "Smoothed",
         "showlegend": true,
         "type": "scatter",
         "x": [
          "2022-03-22T00:00:00",
          "2022-03-23T00:00:00",
          "2022-03-24T00:00:00",
          "2022-03-25T00:00:00",
          "2022-03-26T00:00:00",
          "2022-03-27T00:00:00",
          "2022-03-28T00:00:00",
          "2022-03-29T00:00:00",
          "2022-03-30T00:00:00",
          "2022-03-31T00:00:00",
          "2022-04-01T00:00:00",
          "2022-04-02T00:00:00",
          "2022-04-03T00:00:00",
          "2022-04-04T00:00:00",
          "2022-04-05T00:00:00",
          "2022-04-06T00:00:00",
          "2022-04-07T00:00:00",
          "2022-04-08T00:00:00",
          "2022-04-09T00:00:00",
          "2022-04-10T00:00:00",
          "2022-04-11T00:00:00",
          "2022-04-12T00:00:00",
          "2022-04-13T00:00:00",
          "2022-04-14T00:00:00",
          "2022-04-15T00:00:00"
         ],
         "y": [
          null,
          null,
          3665.4116394696293,
          3775.102950355927,
          3755.9839872756124,
          3452.1121194335387,
          3714.6067364815485,
          4264.302107541095,
          5550.131225054447,
          6667.108864069492,
          6849.045962891922,
          5839.328275551668,
          4702.359072109685,
          3356.6483767010363,
          2483.438189865322,
          2192.7593350818147,
          1865.2979271815793,
          2083.3291520217786,
          2349.701171604418,
          2383.4562097211924,
          2045.797187518479,
          1724.5621049048052,
          null,
          null
         ]
        },
        {
         "hovertemplate": "%{y:.2f}",
         "marker": {
          "color": "#bbbbbb"
         },
         "name": "Signal brut",
         "type": "scatter",
         "x": [
          "2022-03-22T00:00:00",
          "2022-03-23T00:00:00",
          "2022-03-24T00:00:00",
          "2022-03-25T00:00:00",
          "2022-03-26T00:00:00",
          "2022-03-27T00:00:00",
          "2022-03-28T00:00:00",
          "2022-03-29T00:00:00",
          "2022-03-30T00:00:00",
          "2022-03-31T00:00:00",
          "2022-04-01T00:00:00",
          "2022-04-02T00:00:00",
          "2022-04-03T00:00:00",
          "2022-04-04T00:00:00",
          "2022-04-05T00:00:00",
          "2022-04-06T00:00:00",
          "2022-04-07T00:00:00",
          "2022-04-08T00:00:00",
          "2022-04-09T00:00:00",
          "2022-04-10T00:00:00",
          "2022-04-11T00:00:00",
          "2022-04-12T00:00:00",
          "2022-04-13T00:00:00"
         ],
         "y": [
          1137.3164411224218,
          3134.6573652319034,
          2038.149859300458,
          4289.623779114409,
          4395.647353702049,
          3596.2031495151837,
          2778.722442542234,
          11052.938282485538,
          2950.6305071539523,
          6484.763327581454,
          653.2645646863165,
          6918.391684577965,
          2786.5689419026103,
          null,
          2798.149783752387,
          2367.3317099185447,
          1380.8920159008362,
          4057.0419500025146,
          10705.437904406443,
          4634.604466404682,
          2678.048012084647,
          483.5497304634185,
          177.2865341735821
         ]
        },
        {
         "hovertemplate": "%{y:.2f}",
         "line": {
          "color": "#D62728"
         },
         "marker": {
          "size": 15,
          "symbol": "star"
         },
         "mode": "markers",
         "name": "Annoté manuellement",
         "showlegend": true,
         "type": "scatter",
         "x": [
          "2022-03-29T00:00:00",
          "2022-03-30T00:00:00",
          "2022-03-31T00:00:00",
          "2022-04-01T00:00:00",
          "2022-04-02T00:00:00",
          "2022-04-03T00:00:00",
          "2022-04-04T00:00:00",
          "2022-04-05T00:00:00",
          "2022-04-06T00:00:00",
          "2022-04-07T00:00:00",
          "2022-04-08T00:00:00",
          "2022-04-09T00:00:00",
          "2022-04-10T00:00:00",
          "2022-04-11T00:00:00",
          "2022-04-12T00:00:00",
          "2022-04-13T00:00:00"
         ],
         "y": [
          11052.938282485538,
          null,
          null,
          653.2645646863165,
          null,
          null,
          null,
          null,
          null,
          null,
          null,
          null,
          null,
          null,
          483.5497304634185,
          177.2865341735821
         ]
        },
        {
         "hovertemplate": "%{y:.2f}",
         "marker": {
          "color": "#FF6F00"
         },
         "name": "Liss. moy. 7j",
         "type": "scatter",
         "x": [
          "2022-03-22T00:00:00",
          "2022-03-23T00:00:00",
          "2022-03-24T00:00:00",
          "2022-03-25T00:00:00",
          "2022-03-26T00:00:00",
          "2022-03-27T00:00:00",
          "2022-03-28T00:00:00",
          "2022-03-29T00:00:00",
          "2022-03-30T00:00:00",
          "2022-03-31T00:00:00",
          "2022-04-01T00:00:00",
          "2022-04-02T00:00:00",
          "2022-04-03T00:00:00",
          "2022-04-04T00:00:00",
          "2022-04-05T00:00:00",
          "2022-04-06T00:00:00",
          "2022-04-07T00:00:00",
          "2022-04-08T00:00:00",
          "2022-04-09T00:00:00",
          "2022-04-10T00:00:00",
          "2022-04-11T00:00:00",
          "2022-04-12T00:00:00",
          "2022-04-13T00:00:00"
         ],
         "y": [
          null,
          null,
          null,
          3052.902912932666,
          4469.420318841682,
          4443.1307676876895,
          5078.361263156403,
          4558.881375380961,
          4919.273422648949,
          4803.61139299001,
          4805.559524459334,
          3626.304024640312,
          3542.975625035254,
          2813.851151938022,
          3300.1050641260513,
          3841.111666958691,
          4105.1167418875575,
          4088.7865489242936,
          3758.1293984544404,
          3445.265801919446,
          null,
          null,
          null
         ]
        }
       ],
       "layout": {
        "height": 800,
        "hovermode": "x unified",
        "legend": {
         "orientation": "h",
         "x": 0,
         "xanchor": "left",
         "y": 1.05,
         "yanchor": "top"
        },
        "template": {
         "data": {
          "bar": [
           {
            "error_x": {
             "color": "#2a3f5f"
            },
            "error_y": {
             "color": "#2a3f5f"
            },
            "marker": {
             "line": {
              "color": "white",
              "width": 0.5
             },
             "pattern": {
              "fillmode": "overlay",
              "size": 10,
              "solidity": 0.2
             }
            },
            "type": "bar"
           }
          ],
          "barpolar": [
           {
            "marker": {
             "line": {
              "color": "white",
              "width": 0.5
             },
             "pattern": {
              "fillmode": "overlay",
              "size": 10,
              "solidity": 0.2
             }
            },
            "type": "barpolar"
           }
          ],
          "carpet": [
           {
            "aaxis": {
             "endlinecolor": "#2a3f5f",
             "gridcolor": "#C8D4E3",
             "linecolor": "#C8D4E3",
             "minorgridcolor": "#C8D4E3",
             "startlinecolor": "#2a3f5f"
            },
            "baxis": {
             "endlinecolor": "#2a3f5f",
             "gridcolor": "#C8D4E3",
             "linecolor": "#C8D4E3",
             "minorgridcolor": "#C8D4E3",
             "startlinecolor": "#2a3f5f"
            },
            "type": "carpet"
           }
          ],
          "choropleth": [
           {
            "colorbar": {
             "outlinewidth": 0,
             "ticks": ""
            },
            "type": "choropleth"
           }
          ],
          "contour": [
           {
            "colorbar": {
             "outlinewidth": 0,
             "ticks": ""
            },
            "colorscale": [
             [
              0,
              "#0d0887"
             ],
             [
              0.1111111111111111,
              "#46039f"
             ],
             [
              0.2222222222222222,
              "#7201a8"
             ],
             [
              0.3333333333333333,
              "#9c179e"
             ],
             [
              0.4444444444444444,
              "#bd3786"
             ],
             [
              0.5555555555555556,
              "#d8576b"
             ],
             [
              0.6666666666666666,
              "#ed7953"
             ],
             [
              0.7777777777777778,
              "#fb9f3a"
             ],
             [
              0.8888888888888888,
              "#fdca26"
             ],
             [
              1,
              "#f0f921"
             ]
            ],
            "type": "contour"
           }
          ],
          "contourcarpet": [
           {
            "colorbar": {
             "outlinewidth": 0,
             "ticks": ""
            },
            "type": "contourcarpet"
           }
          ],
          "heatmap": [
           {
            "colorbar": {
             "outlinewidth": 0,
             "ticks": ""
            },
            "colorscale": [
             [
              0,
              "#0d0887"
             ],
             [
              0.1111111111111111,
              "#46039f"
             ],
             [
              0.2222222222222222,
              "#7201a8"
             ],
             [
              0.3333333333333333,
              "#9c179e"
             ],
             [
              0.4444444444444444,
              "#bd3786"
             ],
             [
              0.5555555555555556,
              "#d8576b"
             ],
             [
              0.6666666666666666,
              "#ed7953"
             ],
             [
              0.7777777777777778,
              "#fb9f3a"
             ],
             [
              0.8888888888888888,
              "#fdca26"
             ],
             [
              1,
              "#f0f921"
             ]
            ],
            "type": "heatmap"
           }
          ],
          "heatmapgl": [
           {
            "colorbar": {
             "outlinewidth": 0,
             "ticks": ""
            },
            "colorscale": [
             [
              0,
              "#0d0887"
             ],
             [
              0.1111111111111111,
              "#46039f"
             ],
             [
              0.2222222222222222,
              "#7201a8"
             ],
             [
              0.3333333333333333,
              "#9c179e"
             ],
             [
              0.4444444444444444,
              "#bd3786"
             ],
             [
              0.5555555555555556,
              "#d8576b"
             ],
             [
              0.6666666666666666,
              "#ed7953"
             ],
             [
              0.7777777777777778,
              "#fb9f3a"
             ],
             [
              0.8888888888888888,
              "#fdca26"
             ],
             [
              1,
              "#f0f921"
             ]
            ],
            "type": "heatmapgl"
           }
          ],
          "histogram": [
           {
            "marker": {
             "pattern": {
              "fillmode": "overlay",
              "size": 10,
              "solidity": 0.2
             }
            },
            "type": "histogram"
           }
          ],
          "histogram2d": [
           {
            "colorbar": {
             "outlinewidth": 0,
             "ticks": ""
            },
            "colorscale": [
             [
              0,
              "#0d0887"
             ],
             [
              0.1111111111111111,
              "#46039f"
             ],
             [
              0.2222222222222222,
              "#7201a8"
             ],
             [
              0.3333333333333333,
              "#9c179e"
             ],
             [
              0.4444444444444444,
              "#bd3786"
             ],
             [
              0.5555555555555556,
              "#d8576b"
             ],
             [
              0.6666666666666666,
              "#ed7953"
             ],
             [
              0.7777777777777778,
              "#fb9f3a"
             ],
             [
              0.8888888888888888,
              "#fdca26"
             ],
             [
              1,
              "#f0f921"
             ]
            ],
            "type": "histogram2d"
           }
          ],
          "histogram2dcontour": [
           {
            "colorbar": {
             "outlinewidth": 0,
             "ticks": ""
            },
            "colorscale": [
             [
              0,
              "#0d0887"
             ],
             [
              0.1111111111111111,
              "#46039f"
             ],
             [
              0.2222222222222222,
              "#7201a8"
             ],
             [
              0.3333333333333333,
              "#9c179e"
             ],
             [
              0.4444444444444444,
              "#bd3786"
             ],
             [
              0.5555555555555556,
              "#d8576b"
             ],
             [
              0.6666666666666666,
              "#ed7953"
             ],
             [
              0.7777777777777778,
              "#fb9f3a"
             ],
             [
              0.8888888888888888,
              "#fdca26"
             ],
             [
              1,
              "#f0f921"
             ]
            ],
            "type": "histogram2dcontour"
           }
          ],
          "mesh3d": [
           {
            "colorbar": {
             "outlinewidth": 0,
             "ticks": ""
            },
            "type": "mesh3d"
           }
          ],
          "parcoords": [
           {
            "line": {
             "colorbar": {
              "outlinewidth": 0,
              "ticks": ""
             }
            },
            "type": "parcoords"
           }
          ],
          "pie": [
           {
            "automargin": true,
            "type": "pie"
           }
          ],
          "scatter": [
           {
            "fillpattern": {
             "fillmode": "overlay",
             "size": 10,
             "solidity": 0.2
            },
            "type": "scatter"
           }
          ],
          "scatter3d": [
           {
            "line": {
             "colorbar": {
              "outlinewidth": 0,
              "ticks": ""
             }
            },
            "marker": {
             "colorbar": {
              "outlinewidth": 0,
              "ticks": ""
             }
            },
            "type": "scatter3d"
           }
          ],
          "scattercarpet": [
           {
            "marker": {
             "colorbar": {
              "outlinewidth": 0,
              "ticks": ""
             }
            },
            "type": "scattercarpet"
           }
          ],
          "scattergeo": [
           {
            "marker": {
             "colorbar": {
              "outlinewidth": 0,
              "ticks": ""
             }
            },
            "type": "scattergeo"
           }
          ],
          "scattergl": [
           {
            "marker": {
             "colorbar": {
              "outlinewidth": 0,
              "ticks": ""
             }
            },
            "type": "scattergl"
           }
          ],
          "scattermapbox": [
           {
            "marker": {
             "colorbar": {
              "outlinewidth": 0,
              "ticks": ""
             }
            },
            "type": "scattermapbox"
           }
          ],
          "scatterpolar": [
           {
            "marker": {
             "colorbar": {
              "outlinewidth": 0,
              "ticks": ""
             }
            },
            "type": "scatterpolar"
           }
          ],
          "scatterpolargl": [
           {
            "marker": {
             "colorbar": {
              "outlinewidth": 0,
              "ticks": ""
             }
            },
            "type": "scatterpolargl"
           }
          ],
          "scatterternary": [
           {
            "marker": {
             "colorbar": {
              "outlinewidth": 0,
              "ticks": ""
             }
            },
            "type": "scatterternary"
           }
          ],
          "surface": [
           {
            "colorbar": {
             "outlinewidth": 0,
             "ticks": ""
            },
            "colorscale": [
             [
              0,
              "#0d0887"
             ],
             [
              0.1111111111111111,
              "#46039f"
             ],
             [
              0.2222222222222222,
              "#7201a8"
             ],
             [
              0.3333333333333333,
              "#9c179e"
             ],
             [
              0.4444444444444444,
              "#bd3786"
             ],
             [
              0.5555555555555556,
              "#d8576b"
             ],
             [
              0.6666666666666666,
              "#ed7953"
             ],
             [
              0.7777777777777778,
              "#fb9f3a"
             ],
             [
              0.8888888888888888,
              "#fdca26"
             ],
             [
              1,
              "#f0f921"
             ]
            ],
            "type": "surface"
           }
          ],
          "table": [
           {
            "cells": {
             "fill": {
              "color": "#EBF0F8"
             },
             "line": {
              "color": "white"
             }
            },
            "header": {
             "fill": {
              "color": "#C8D4E3"
             },
             "line": {
              "color": "white"
             }
            },
            "type": "table"
           }
          ]
         },
         "layout": {
          "annotationdefaults": {
           "arrowcolor": "#2a3f5f",
           "arrowhead": 0,
           "arrowwidth": 1
          },
          "autotypenumbers": "strict",
          "coloraxis": {
           "colorbar": {
            "outlinewidth": 0,
            "ticks": ""
           }
          },
          "colorscale": {
           "diverging": [
            [
             0,
             "#8e0152"
            ],
            [
             0.1,
             "#c51b7d"
            ],
            [
             0.2,
             "#de77ae"
            ],
            [
             0.3,
             "#f1b6da"
            ],
            [
             0.4,
             "#fde0ef"
            ],
            [
             0.5,
             "#f7f7f7"
            ],
            [
             0.6,
             "#e6f5d0"
            ],
            [
             0.7,
             "#b8e186"
            ],
            [
             0.8,
             "#7fbc41"
            ],
            [
             0.9,
             "#4d9221"
            ],
            [
             1,
             "#276419"
            ]
           ],
           "sequential": [
            [
             0,
             "#0d0887"
            ],
            [
             0.1111111111111111,
             "#46039f"
            ],
            [
             0.2222222222222222,
             "#7201a8"
            ],
            [
             0.3333333333333333,
             "#9c179e"
            ],
            [
             0.4444444444444444,
             "#bd3786"
            ],
            [
             0.5555555555555556,
             "#d8576b"
            ],
            [
             0.6666666666666666,
             "#ed7953"
            ],
            [
             0.7777777777777778,
             "#fb9f3a"
            ],
            [
             0.8888888888888888,
             "#fdca26"
            ],
            [
             1,
             "#f0f921"
            ]
           ],
           "sequentialminus": [
            [
             0,
             "#0d0887"
            ],
            [
             0.1111111111111111,
             "#46039f"
            ],
            [
             0.2222222222222222,
             "#7201a8"
            ],
            [
             0.3333333333333333,
             "#9c179e"
            ],
            [
             0.4444444444444444,
             "#bd3786"
            ],
            [
             0.5555555555555556,
             "#d8576b"
            ],
            [
             0.6666666666666666,
             "#ed7953"
            ],
            [
             0.7777777777777778,
             "#fb9f3a"
            ],
            [
             0.8888888888888888,
             "#fdca26"
            ],
            [
             1,
             "#f0f921"
            ]
           ]
          },
          "colorway": [
           "#636efa",
           "#EF553B",
           "#00cc96",
           "#ab63fa",
           "#FFA15A",
           "#19d3f3",
           "#FF6692",
           "#B6E880",
           "#FF97FF",
           "#FECB52"
          ],
          "font": {
           "color": "#2a3f5f"
          },
          "geo": {
           "bgcolor": "white",
           "lakecolor": "white",
           "landcolor": "white",
           "showlakes": true,
           "showland": true,
           "subunitcolor": "#C8D4E3"
          },
          "hoverlabel": {
           "align": "left"
          },
          "hovermode": "closest",
          "mapbox": {
           "style": "light"
          },
          "paper_bgcolor": "white",
          "plot_bgcolor": "white",
          "polar": {
           "angularaxis": {
            "gridcolor": "#EBF0F8",
            "linecolor": "#EBF0F8",
            "ticks": ""
           },
           "bgcolor": "white",
           "radialaxis": {
            "gridcolor": "#EBF0F8",
            "linecolor": "#EBF0F8",
            "ticks": ""
           }
          },
          "scene": {
           "xaxis": {
            "backgroundcolor": "white",
            "gridcolor": "#DFE8F3",
            "gridwidth": 2,
            "linecolor": "#EBF0F8",
            "showbackground": true,
            "ticks": "",
            "zerolinecolor": "#EBF0F8"
           },
           "yaxis": {
            "backgroundcolor": "white",
            "gridcolor": "#DFE8F3",
            "gridwidth": 2,
            "linecolor": "#EBF0F8",
            "showbackground": true,
            "ticks": "",
            "zerolinecolor": "#EBF0F8"
           },
           "zaxis": {
            "backgroundcolor": "white",
            "gridcolor": "#DFE8F3",
            "gridwidth": 2,
            "linecolor": "#EBF0F8",
            "showbackground": true,
            "ticks": "",
            "zerolinecolor": "#EBF0F8"
           }
          },
          "shapedefaults": {
           "line": {
            "color": "#2a3f5f"
           }
          },
          "ternary": {
           "aaxis": {
            "gridcolor": "#DFE8F3",
            "linecolor": "#A2B1C6",
            "ticks": ""
           },
           "baxis": {
            "gridcolor": "#DFE8F3",
            "linecolor": "#A2B1C6",
            "ticks": ""
           },
           "bgcolor": "white",
           "caxis": {
            "gridcolor": "#DFE8F3",
            "linecolor": "#A2B1C6",
            "ticks": ""
           }
          },
          "title": {
           "x": 0.05
          },
          "xaxis": {
           "automargin": true,
           "gridcolor": "#EBF0F8",
           "linecolor": "#EBF0F8",
           "ticks": "",
           "title": {
            "standoff": 15
           },
           "zerolinecolor": "#EBF0F8",
           "zerolinewidth": 2
          },
          "yaxis": {
           "automargin": true,
           "gridcolor": "#EBF0F8",
           "linecolor": "#EBF0F8",
           "ticks": "",
           "title": {
            "standoff": 15
           },
           "zerolinecolor": "#EBF0F8",
           "zerolinewidth": 2
          }
         }
        },
        "title": {
         "text": "Surveillance des eaux usées - Ville de Québec, Station Est - SRAS x Débit"
        },
        "width": 1000,
        "xaxis": {
         "title": {
          "text": "Jour d'échantillonnage"
         }
        },
        "yaxis": {
         "title": {
          "text": "Valeur (1e9 cg/j)"
         }
        }
       }
      }
     },
     "metadata": {},
     "output_type": "display_data"
    }
   ],
   "source": [
    "fig.show()"
   ]
  },
  {
   "cell_type": "code",
   "execution_count": null,
   "metadata": {},
   "outputs": [],
   "source": []
  }
 ],
 "metadata": {
  "interpreter": {
   "hash": "4caa802b6ae635153cbc2217267f58a8717df61133f2e34ea7ad644e1eb56bfd"
  },
  "kernelspec": {
   "display_name": "Python 3.9.10 ('env': venv)",
   "language": "python",
   "name": "python3"
  },
  "language_info": {
   "codemirror_mode": {
    "name": "ipython",
    "version": 3
   },
   "file_extension": ".py",
   "mimetype": "text/x-python",
   "name": "python",
   "nbconvert_exporter": "python",
   "pygments_lexer": "ipython3",
   "version": "3.9.10"
  },
  "orig_nbformat": 4
 },
 "nbformat": 4,
 "nbformat_minor": 2
}
